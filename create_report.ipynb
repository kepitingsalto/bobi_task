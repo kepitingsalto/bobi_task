{
 "cells": [
  {
   "cell_type": "code",
   "execution_count": 2,
   "metadata": {},
   "outputs": [],
   "source": [
    "import pandas as pd\n",
    "from datetime import date, timedelta\n",
    "import os\n"
   ]
  },
  {
   "cell_type": "code",
   "execution_count": 11,
   "metadata": {},
   "outputs": [
    {
     "name": "stdout",
     "output_type": "stream",
     "text": [
      "c:\\Users\\ASUS\\Documents\\Python\\BOBI_TASK\n"
     ]
    }
   ],
   "source": [
    "#mendapatkan lokasi direktori\n",
    "current_path = os.getcwd()\n",
    "current_date = date.today()\n",
    "report_date = current_date - timedelta(days=1)\n",
    "bulan = report_date.strftime('%B')\n",
    "date_nodash = report_date.strftime('%d%m%Y')\n",
    "\n",
    "#membuat \n",
    "path_raw_file = f\"{current_path}\\\\raw_report\\\\{bulan}\\\\{date_nodash}\"\n",
    "print(current_path)\n",
    "\n",
    "#list file dalam direktori\n",
    "list_file = os.listdir(path_raw_file)\n",
    "\n",
    "#kolom yang dibutuhkan\n",
    "used_col = [\"City\", \"State\", \"Sales\", \"Quantity\", \"Discount\", \"Profit\"]\n",
    "\n",
    "#membuat data frame kosong\n",
    "df_all = pd.DataFrame()\n",
    "\n",
    "#membaca file dalam direktori\n",
    "for file in list_file:\n",
    "    raw_data = pd.read_excel(f\"{path_raw_file}\\\\{file}\")\n",
    "    raw_data = raw_data[used_col]\n",
    "    #menggabungkan seluruh file pada tanggal yang sama (satu folder)\n",
    "    df_all = pd.concat([df_all, raw_data], ignore_index=True)\n",
    "\n",
    "#cek jika folder untuk bulan report belum ada\n",
    "list_folder_report = os.listdir(f\"{current_path}\\\\report_upload\")\n",
    "\n",
    "if bulan not in list_folder_report:\n",
    "    #membuat folder bulan\n",
    "    os.mkdir(f\"{current_path}\\\\report_upload\\\\{bulan}\")\n",
    "    #simpan file di folder bulan\n",
    "    df_all.to_csv(f\"{current_path}\\\\report_upload\\\\{bulan}\\\\report sales_{date_nodash}.csv\", sep=';')\n",
    "else:\n",
    "    df_all.to_csv(f\"{current_path}\\\\report_upload\\\\{bulan}\\\\report sales_{date_nodash}.csv\", sep=';')\n"
   ]
  }
 ],
 "metadata": {
  "kernelspec": {
   "display_name": "Python 3",
   "language": "python",
   "name": "python3"
  },
  "language_info": {
   "codemirror_mode": {
    "name": "ipython",
    "version": 3
   },
   "file_extension": ".py",
   "mimetype": "text/x-python",
   "name": "python",
   "nbconvert_exporter": "python",
   "pygments_lexer": "ipython3",
   "version": "3.10.11"
  },
  "orig_nbformat": 4
 },
 "nbformat": 4,
 "nbformat_minor": 2
}
